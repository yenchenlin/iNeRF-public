{
 "cells": [
  {
   "cell_type": "markdown",
   "metadata": {},
   "source": [
    "# iNeRF"
   ]
  },
  {
   "cell_type": "code",
   "execution_count": 1,
   "metadata": {},
   "outputs": [],
   "source": [
    "%load_ext autoreload\n",
    "%autoreload 2\n",
    "%matplotlib inline"
   ]
  },
  {
   "cell_type": "code",
   "execution_count": 2,
   "metadata": {},
   "outputs": [],
   "source": [
    "import sys\n",
    "import os\n",
    "\n",
    "ROOT_DIR = os.getcwd()\n",
    "sys.path.insert(0, os.path.join(ROOT_DIR, \"src\"))\n",
    "\n",
    "import json\n",
    "import util\n",
    "import torch\n",
    "import numpy as np\n",
    "from model import make_model\n",
    "from render import NeRFRenderer\n",
    "import torchvision.transforms as T\n",
    "import tqdm\n",
    "import imageio\n",
    "import cv2\n",
    "import mediapy as media\n",
    "import matplotlib.pyplot as plt\n",
    "from PIL import Image"
   ]
  },
  {
   "cell_type": "markdown",
   "metadata": {},
   "source": [
    "## Config\n",
    "\n",
    "- `input`: the path of the source image for pixelNeRF.\n",
    "- `target`: the path of the target whose pose we want to estimate.\n",
    "- `output`: the directory to save rendered output."
   ]
  },
  {
   "cell_type": "code",
   "execution_count": 3,
   "metadata": {},
   "outputs": [],
   "source": [
    "config = {\n",
    "    'input': './input/1.png',\n",
    "    'target': './input/2.png',\n",
    "    'output': './pose_estimation'\n",
    "}"
   ]
  },
  {
   "cell_type": "markdown",
   "metadata": {},
   "source": [
    "## Visualize the input data\n",
    "\n",
    "We show both the source image and the target image. Our goal is to 1) use pixelNeRF to generate a NeRF based on the source image and 2) estimate the relative pose between them."
   ]
  },
  {
   "cell_type": "code",
   "execution_count": 4,
   "metadata": {},
   "outputs": [
    {
     "data": {
      "text/html": [
       "<table class=\"show_images\" style=\"border-spacing:0px;\"><tr><td style=\"padding:1px;\"><div style=\"display:flex; align-items:left;\">\n",
       "      <div style=\"display:flex; flex-direction:column; align-items:center;\">\n",
       "      <div>Source</div><div><img width=\"128\" height=\"128\" style=\"image-rendering:pixelated; object-fit:cover;\" src=\"data:image/png;base64,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\"/></div></div></div></td><td style=\"padding:1px;\"><div style=\"display:flex; align-items:left;\">\n",
       "      <div style=\"display:flex; flex-direction:column; align-items:center;\">\n",
       "      <div>Target</div><div><img width=\"128\" height=\"128\" style=\"image-rendering:pixelated; object-fit:cover;\" src=\"data:image/png;base64,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\"/></div></div></div></td></tr></table>"
      ],
      "text/plain": [
       "<IPython.core.display.HTML object>"
      ]
     },
     "metadata": {},
     "output_type": "display_data"
    }
   ],
   "source": [
    "input_image_np = np.array(Image.open(config['input']).convert(\"RGB\"))\n",
    "target_image_np = np.array(Image.open(config['target']).convert(\"RGB\"))\n",
    "\n",
    "media.show_images({\n",
    "    'Source':  input_image_np,\n",
    "    'Target': target_image_np\n",
    "})"
   ]
  },
  {
   "cell_type": "markdown",
   "metadata": {},
   "source": [
    "## PixelNeRF\n",
    "\n",
    "Load the pixelNeRF. Make sure the `./checkpoints/srn_car/pixel_nerf_latest` exist."
   ]
  },
  {
   "cell_type": "code",
   "execution_count": 5,
   "metadata": {},
   "outputs": [
    {
     "name": "stdout",
     "output_type": "stream",
     "text": [
      "EXPERIMENT NAME: srn_car\n",
      "* Config file: conf/exp/srn.conf\n",
      "* Dataset format: srn\n",
      "* Dataset location: data\n",
      "Using torchvision resnet34 encoder\n",
      "Load checkpoints/srn_car/pixel_nerf_latest\n"
     ]
    }
   ],
   "source": [
    "def extra_args(parser):\n",
    "    parser.add_argument(\n",
    "        \"--input\",\n",
    "        \"-I\",\n",
    "        type=str,\n",
    "        help=\"Input image to condition on.\",\n",
    "    )\n",
    "    parser.add_argument(\n",
    "        \"--target\",\n",
    "        \"-T\",\n",
    "        type=str,\n",
    "        help=\"Target image to estimate the pose.\",\n",
    "    )\n",
    "    parser.add_argument(\n",
    "        \"--output\",\n",
    "        \"-O\",\n",
    "        type=str,\n",
    "        default=os.path.join(ROOT_DIR, \"pose_estimation\"),\n",
    "        help=\"Output directory\",\n",
    "    )\n",
    "    parser.add_argument(\"--size\", type=int, default=128, help=\"Input image maxdim\")\n",
    "    parser.add_argument(\n",
    "        \"--out_size\",\n",
    "        type=str,\n",
    "        default=\"128\",\n",
    "        help=\"Output image size, either 1 or 2 number (w h)\",\n",
    "    )\n",
    "\n",
    "    parser.add_argument(\"--focal\", type=float, default=131.25, help=\"Focal length\")\n",
    "    parser.add_argument(\"--radius\", type=float, default=1.3, help=\"Camera distance\")\n",
    "    parser.add_argument(\"--z_near\", type=float, default=0.8)\n",
    "    parser.add_argument(\"--z_far\", type=float, default=1.8)\n",
    "    parser.add_argument(\n",
    "        \"--elevation\",\n",
    "        \"-e\",\n",
    "        type=float,\n",
    "        default=0.0,\n",
    "        help=\"Elevation angle (negative is above)\",\n",
    "    )\n",
    "    parser.add_argument(\n",
    "        \"--num_views\",\n",
    "        type=int,\n",
    "        default=1,\n",
    "        help=\"Number of video frames (rotated views)\",\n",
    "    )\n",
    "    parser.add_argument(\"--fps\", type=int, default=15, help=\"FPS of video\")\n",
    "    parser.add_argument(\"--gif\", action=\"store_true\", help=\"Store gif instead of mp4\")\n",
    "    parser.add_argument(\n",
    "        \"--no_vid\",\n",
    "        action=\"store_true\",\n",
    "        help=\"Do not store video (only image frames will be written)\",\n",
    "    )\n",
    "    parser.add_argument(\"--lrate\", type=float, default=1e-2)\n",
    "    parser.add_argument(\"--n_steps\", type=int, default=500, help=\"Number of steps for pose optimization.\")\n",
    "    return parser\n",
    "\n",
    "\n",
    "args, conf = util.args.parse_args(\n",
    "    extra_args, default_expname=\"srn_car\", default_data_format=\"srn\", jupyter=True\n",
    ")\n",
    "args.resume = True\n",
    "os.makedirs(args.output, exist_ok=True)\n",
    "\n",
    "device = util.get_cuda(args.gpu_id[0])\n",
    "\n",
    "z_near, z_far = args.z_near, args.z_far\n",
    "focal = torch.tensor(args.focal, dtype=torch.float32, device=device)\n",
    "\n",
    "in_sz = args.size\n",
    "sz = list(map(int, args.out_size.split()))\n",
    "if len(sz) == 1:\n",
    "    H = W = sz[0]\n",
    "else:\n",
    "    assert len(sz) == 2\n",
    "    W, H = sz\n",
    "    \n",
    "net = make_model(conf[\"model\"]).to(device=device).load_weights(args)\n",
    "\n",
    "# Create the renderer.\n",
    "renderer = NeRFRenderer.from_conf(\n",
    "    conf[\"renderer\"], eval_batch_size=args.ray_batch_size\n",
    ").to(device=device)\n",
    "render_par = renderer.bind_parallel(net, args.gpu_id, simple_output=True)"
   ]
  },
  {
   "cell_type": "markdown",
   "metadata": {},
   "source": [
    "## iNeRF"
   ]
  },
  {
   "cell_type": "code",
   "execution_count": 6,
   "metadata": {},
   "outputs": [
    {
     "name": "stdout",
     "output_type": "stream",
     "text": [
      "Input image: ./input/1.png\n",
      "Target image: ./input/2.png\n",
      "Input pose:\n",
      "tensor([[1.0000, 0.0000, 0.0000, 0.0000],\n",
      "        [0.0000, 1.0000, 0.0000, 0.0000],\n",
      "        [0.0000, 0.0000, 1.0000, 1.3000],\n",
      "        [0.0000, 0.0000, 0.0000, 1.0000]])\n",
      "Init pose:\n",
      "tensor([[1.0000, 0.0000, 0.0000, 0.0000],\n",
      "        [0.0000, 1.0000, 0.0000, 0.0000],\n",
      "        [0.0000, 0.0000, 1.0000, 1.3000],\n",
      "        [0.0000, 0.0000, 0.0000, 1.0000]], grad_fn=<SelectBackward>)\n",
      "Step 0, loss: 0.08879142999649048\n",
      "Step 10, loss: 0.04623040556907654\n",
      "Step 20, loss: 0.016977649182081223\n",
      "Step 30, loss: 0.012130280956625938\n",
      "Step 40, loss: 0.01018441841006279\n",
      "Step 50, loss: 0.009968521073460579\n",
      "Step 60, loss: 0.010097332298755646\n",
      "Step 70, loss: 0.010672736912965775\n",
      "Step 80, loss: 0.009122783318161964\n",
      "Step 90, loss: 0.008157029747962952\n",
      "Step 100, loss: 0.008524651639163494\n"
     ]
    }
   ],
   "source": [
    "image_to_tensor = util.get_image_to_tensor_balanced()\n",
    "\n",
    "# Encoding the input image.\n",
    "print(f\"Input image: {config['input']}\")\n",
    "input_image = Image.fromarray(input_image_np)\n",
    "input_image = T.Resize(in_sz)(input_image)\n",
    "input_image = image_to_tensor(input_image).to(device=device)\n",
    "input_pose = torch.eye(4)\n",
    "input_pose[2, -1] = args.radius\n",
    "\n",
    "print(f\"Target image: {config['target']}\")\n",
    "target_image = Image.fromarray(target_image_np)\n",
    "target_image = T.Resize(in_sz)(target_image)\n",
    "target_image_flatten = np.reshape(target_image, [-1, 3]) / 255.0\n",
    "target_image_flatten = torch.from_numpy(target_image_flatten).float().to(device=device)\n",
    "\n",
    "cam_pose = torch.clone(input_pose.detach()).unsqueeze(0)\n",
    "cam_pose.requires_grad = True\n",
    "\n",
    "print(\"Input pose:\")\n",
    "print(f\"{input_pose}\")\n",
    "print(\"Init pose:\")\n",
    "print(f\"{cam_pose[0]}\")\n",
    "\n",
    "# Create optimizer.\n",
    "optimizer = torch.optim.Adam(params=[cam_pose], lr=args.lrate)\n",
    "n_steps = 100 + 1\n",
    "\n",
    "# Loss.\n",
    "mse_loss = torch.nn.MSELoss()\n",
    "\n",
    "# Sampling.\n",
    "n_rays = 1024\n",
    "sampling = 'center'\n",
    "\n",
    "# Pose optimization.\n",
    "predicted_poses = []\n",
    "fine_patches = []\n",
    "gt_patches = []\n",
    "\n",
    "for i_step in range(n_steps):\n",
    "    # Encode.\n",
    "    net.encode(\n",
    "        input_image.unsqueeze(0), input_pose.unsqueeze(0).to(device=device), focal,\n",
    "    )\n",
    "\n",
    "    render_rays = util.gen_rays(cam_pose, W, H, focal, z_near, z_far)\n",
    "    render_rays_flatten = render_rays.view(-1, 8)\n",
    "    assert render_rays_flatten.shape[0] == H*W\n",
    "    if sampling == 'random':\n",
    "        idxs_sampled = torch.randint(0, H*W, (n_rays,))\n",
    "    elif sampling == 'center':\n",
    "        frac = 0.5\n",
    "        mask = torch.zeros((H, W))\n",
    "        h_low = int(0.5*(1-frac)*H)\n",
    "        h_high = int(0.5*(1+frac)*H)\n",
    "        w_low = int(0.5*(1-frac)*W)\n",
    "        w_high = int(0.5*(1+frac)*W)\n",
    "        mask[h_low:h_high, w_low:w_high] = 1\n",
    "        mask = mask.reshape(H*W)\n",
    "\n",
    "        idxs_masked = torch.where(mask>0)[0]\n",
    "        idxs_sampled = idxs_masked[torch.randint(0, idxs_masked.shape[0], (n_rays,))]\n",
    "    elif sampling == 'patch':\n",
    "        frac = 0.25\n",
    "        mask = torch.zeros((H, W))\n",
    "        h_low = int(0.5*(1-frac)*H)\n",
    "        h_high = int(0.5*(1+frac)*H)\n",
    "        w_low = int(0.5*(1-frac)*W)\n",
    "        w_high = int(0.5*(1+frac)*W)\n",
    "        mask[h_low:h_high, w_low:w_high] = 1\n",
    "        mask = mask.reshape(H*W)\n",
    "\n",
    "        idxs_sampled = torch.where(mask>0)[0]\n",
    "\n",
    "    render_rays_sampled = render_rays_flatten[idxs_sampled].to(device=device)\n",
    "\n",
    "    rgb, _ = render_par(render_rays_sampled[None])\n",
    "    loss = mse_loss(rgb, target_image_flatten[idxs_sampled][None])\n",
    "\n",
    "    optimizer.zero_grad()\n",
    "    loss.backward()\n",
    "\n",
    "    if i_step % 10 == 0:        \n",
    "        predicted_poses.append(torch.clone(cam_pose[0]).detach().numpy())\n",
    "        fine_patches.append(torch.clone(rgb[0]).detach().cpu().numpy().reshape(32, 32, 3))\n",
    "        gt_patches.append(torch.clone(target_image_flatten[idxs_sampled]).detach().cpu().numpy().reshape(32, 32, 3))\n",
    "\n",
    "#         pose_pred = predicted_poses[-1].copy()\n",
    "#         pose_pred[2, -1] -= args.radius\n",
    "#         pose_pred = pose_input @ pose_pred\n",
    "#         error_R, error_t = compute_pose_error(pose_pred, pose_target)\n",
    "        print(f\"Step {i_step}, loss: {loss}\")\n",
    "        \n",
    "    optimizer.step()"
   ]
  },
  {
   "cell_type": "markdown",
   "metadata": {},
   "source": [
    "## Render the results"
   ]
  },
  {
   "cell_type": "code",
   "execution_count": 7,
   "metadata": {
    "scrolled": true
   },
   "outputs": [
    {
     "name": "stderr",
     "output_type": "stream",
     "text": [
      "\r",
      "  0%|          | 0/3 [00:00<?, ?it/s]"
     ]
    },
    {
     "name": "stdout",
     "output_type": "stream",
     "text": [
      "Rendering 180224 rays\n"
     ]
    },
    {
     "name": "stderr",
     "output_type": "stream",
     "text": [
      "100%|██████████| 3/3 [00:25<00:00,  8.43s/it]\n"
     ]
    }
   ],
   "source": [
    "def create_image(patch):\n",
    "    image = np.zeros((128, 128, 3))\n",
    "    image[48:80, 48:80, :] = patch\n",
    "    image = (image * 255.0).astype(np.uint8)\n",
    "    return image\n",
    "\n",
    "# Rendering.\n",
    "overlay_frames = []\n",
    "n_poses = len(predicted_poses)\n",
    "render_poses = torch.from_numpy(np.array(predicted_poses))\n",
    "render_rays = util.gen_rays(render_poses, W, H, focal, z_near, z_far).to(device=device)\n",
    "with torch.no_grad():\n",
    "    print(\"Rendering\", n_poses * H * W, \"rays\")\n",
    "    all_rgb_fine = []\n",
    "    for rays in tqdm.tqdm(torch.split(render_rays.view(-1, 8), 80000, dim=0)):\n",
    "        rgb, _depth = render_par(rays[None])\n",
    "        all_rgb_fine.append(rgb[0])\n",
    "    _depth = None\n",
    "    rgb_fine = torch.cat(all_rgb_fine)\n",
    "    frames = (rgb_fine.view(n_poses, H, W, 3).cpu().numpy() * 255).astype(\n",
    "        np.uint8\n",
    "    )\n",
    "    target_image = (target_image_flatten.cpu().numpy().reshape([H, W, 3]) * 255.0).astype(np.uint8)\n",
    "    target_images = np.stack([np.array(target_image)]*n_poses, 0)\n",
    "    \n",
    "    im_name = os.path.basename(os.path.splitext(config['input'])[0])\n",
    "\n",
    "    frames_dir_name = os.path.join(config['output'], im_name + \"_frames\")\n",
    "    os.makedirs(frames_dir_name, exist_ok=True)\n",
    "\n",
    "    for i in range(n_poses):\n",
    "        if sampling == 'patch':\n",
    "            pred_patch_path = os.path.join(config['output'], f'./pred_patch_{i}.png')\n",
    "            pred_image = create_image(fine_patches[i])\n",
    "\n",
    "            gt_patch_path = os.path.join(config['output'], f'./gt_patch_{i}.png')\n",
    "            gt_image = create_image(gt_patches[i])\n",
    "            overlay_frame = (pred_image*0.5).astype(np.uint8) + (gt_image*0.5).astype(np.uint8)\n",
    "        else:\n",
    "            overlay_frame = (frames[i]*0.5).astype(np.uint8) + (target_images[i]*0.5).astype(np.uint8)\n",
    "        overlay_frames.append(overlay_frame)"
   ]
  },
  {
   "cell_type": "markdown",
   "metadata": {},
   "source": [
    "## Visualize the results\n",
    "\n",
    "We show the overlay of the image rendered with our predicted pose and the target image."
   ]
  },
  {
   "cell_type": "code",
   "execution_count": 8,
   "metadata": {},
   "outputs": [
    {
     "data": {
      "text/html": [
       "<table class=\"show_images\" style=\"border-spacing:0px;\"><tr><td style=\"padding:1px;\"><div style=\"display:flex; align-items:left;\">\n",
       "      <div style=\"display:flex; flex-direction:column; align-items:center;\">\n",
       "      <div>Step 0</div><div><img width=\"128\" height=\"128\" style=\"image-rendering:pixelated; object-fit:cover;\" src=\"data:image/png;base64,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\"/></div></div></div></td><td style=\"padding:1px;\"><div style=\"display:flex; align-items:left;\">\n",
       "      <div style=\"display:flex; flex-direction:column; align-items:center;\">\n",
       "      <div>Step 10</div><div><img width=\"128\" height=\"128\" style=\"image-rendering:pixelated; object-fit:cover;\" src=\"data:image/png;base64,iVBORw0KGgoAAAANSUhEUgAAAIAAAACACAIAAABMXPacAAATuElEQVR4nO2dWZNcx5WYz8ntbrV0dVfvjca+ESQIUBpKNj2eLezxkycmZvkHY/8e/wA/KMYTnnDYEZ6YxSGGRiGRHMoyKVIUAZKNHWgA3V3dtd795nLmARAlUhqHJ9yNWwDqe6i49VSZ+d2Ty8nMKHTOwYz6YHUX4GVnJqBmZgJqZiagZmYCamYmoGZmAmpmJqBmZgJqZiagZmYCamYmoGZmAmpmJqBmZgJqZiagZmYCamYmoGZmAmpmJqBmZgJqZiagZmYCamYmoGZmAmpmJqBmZgJqZiagZmYCamYmoGZmAmpmJqBmZgJqRjyD3yCC3sHk3qOxEFwK3FhpdNoNRHwGPz394FFfUXJEj3eGn9472BrGJTAHMC/khU771EZzqdvw1LN4A6aZoxXgnLt9b//W48G9JOnHlXMAhrgv/NCbF8GFxfaZzVa3EyFCpU2el81myF6yyDhCAZU2dx/0v3jQ283TsaEit+QILAFD5JwLJj2viWIzZCsrDb8RjeOk6Yn5Rrg431LyZYmMoxLgHN28e7C1vX9QJKO8zAxY7cA5sAQEQOScm2TF/jg5qKoVPzq+2p6bC3xGa3PR2Y2lUxtLvqeOomDTxpG8aM7RvceTzx/sD8o0rXRpiYwF44AcEIGhsih3DgaP+6PdcRqX1XVwrRvR8blodamzvjy33Rv3RsnZ9e76SvcoijdVHH4EOKK7j+LP7vT30n5alrlxWtunAtCVZTkeZ71Rcmv78cFokCXxJE4cMhVGQRS0uovHm52N5c5Kx798cuXbl06e2Fh+sbujQ66bde7Wg+Tz270DnSaVzTQ4B0RAgEVZxknen6SP9g72B5PBoDc62NVlDuQQhWVYev7ewXic6TvxZNEPdvfHWZp9M8lOHlvutBqMvZhLlsMUoLXd3k9u3xv3imSUl5U1zloASNOiKqs4Kx7tDPrjdHd3dzLopZOB1SkCCs8XfsNJT6iwYrJ0WI2SCQ0fDvd3H/ce7R7827cun9tcWex2GOOHWNop4dAEOOf29oc72+PUlLl1BsARAGCh7XZv2B+nhcZHj/Yng+Fw76EtxmArLkFIETRC6TdS8LK84B4hsTKdlFTlGXs/TT4dx5/e3v/9N8/84b95c2WpCy/cJPVwBDjnyrLqH0zG+aSoXO6cJQLEYVbe603u7WZxmsdx0t9+6JI+lBNEIxTjnHl+aJ3QFkAxLFOTDJlgnDPkEpnisjHW+N3H/c/esXuT8g9/941LZ44J8ULFweEIMFpPhqPRZDQcJ4UjtAQWnIWb9x59fLcXFzbPcqoKp1PQsWBG+QqsddY4aw0DspUZJwxACgnSI65IRRoVkQAmENjdcfWfPty+tpf+yVsXf+cbZ5cW2odS7GngcAToskom40kWD8cjwxjnjBPf3Rs92t4eHUwKy8gRmBLIIiOOCM7oqvI95aqyLDUyLpXPgshIH7ymYYoYB+REHJwgxsG4cVz+zY3dO4Ps5qPBH/3WK2ePrwr+IoTC4QgQSjaigKNxJjMExDlnqrfzeLC/6zkkxyttnanQVuiMAUvaojOmsBUx8CLkEsMWRXMaJDAJyAEYAQIgAIF1wBCs08g+3x/9xYe348r96VvF5fPHpZSHUv4aORwByvPml1fOZHmvtz+Ks6IkYnKpgd2IbFwqoVLEFJCERygFOUQwlbacQAVMBhi1bdQ1MiBigAjAnjY+IgABWSAEYmSxdHjrIP7Oj6/v9vb+7N/lb75+Xqnne8F8OAIQUSq1ubERjwfvf/CxzUrG5alukK23fnbjwcRq5YXARIYN4MxkiStTCgLGiasQGh1qdq0/R1whMgAAR+QsEAG4JzEABIAE5IDQGt1Lk7+Jx1ilQomrF8946jmOg8NcB0jPO3f2wiTN/8+HH4EDZ+jS6U0O+MnW/YnNlR/tM5mLyHLuhAIgkML5EYs6ELZRNRmXxAU4R7ZCZ4EcPV3F/TyHwRE4g8oB2CLPf/CTT0pd/Mc//v1vv3b2+U0cHaYALkSz0/kXb34r8P13/+FHVZYhl5vLC1mabd3vaeJdIfsWcsEd566IbaEhHbJ4H9tdjBYgnAe/DVwi94kcWIPOEllwFhyCc8AFeAJ0BkbrbDyyk4+u3/iLZlNb+6+vXnxO4+Dw0yxeGL726muPd3auXbsORnOplufCwYF6OJx4YSvi3HGsGKKpTNoDso5xHO8wv+HWL0KkMVwAvwEcQTggg6YEZ4kLAEKwYDUVCYz20CYGbZxnH13fkkjtwL968ZR8DrNGh19iRAyi6MTGxrVr18lZW5XNULVDdv2LR96CC8KGQTIcQCoEJOfAEVnrrKb7P8X1y0QOhUQVgpCAEpEADFMKOUCWU5br8QHkfeLgJC+N3t3vvfeRQQ1IcPXSKSGeMwdHUlzGWCtqCM60sUROcAammOw/iMiGi2se8ypnCyLJhS5TqnKwmgAhaBJ9DMEcrV3CxiJEi8wLuR9xdBwMs7rKJmbwWOoJekwI7guOOs/7O4PR/vcqK5Ah4huvnn6+0nZHIsAYnSRjwZgB+3TznSyYNB8+MrrERleIAMmCF0mTmTJxJgNrweTgNDgHDz+m7jlkHqpGEPoeM16a2mQ02L3lVWOugHNfITJTZnsPuMk578ZJ/7uf3cn9xp9k7jevnnyOxuQjEVBk2SSdcI6IKDkgACOnGDhXJsPHrMhUc9kTXsaVUyFvGJYaW8Rkc0gtOkNuCfAWlZmjwqhNwcBOhlnvjnSxlFxwJKNtHuvhnov7nGOSt0yp417/r3/06VY/+6Od0b//9sW1xUg9D1mjIxEQNVvz80tMIpaAAJyBFOisNtYAMZuNLecinA9lM48WyVtgxMBZU6ZIFqsYxoBCAtt1t/aL4o0SBYsfCh0LDk5XrjLFsG/GPawSJK1kZAGcrlAU8WiwdVP8NyEGiH/w6rmz62EjmPZQOBIBiLh2bLMRRXluLDkkmGsF3YXGOK4UiNJYnY0tgQpdIAItJLRXLRMweuCsBqspn+BICimNF8LjT1CGCCU5B+D0ZGir1OSxKxJGBgE8L2JCOlOQyZGzQld3Hg3+XtxhwN6I1755Yn55zpvmM0hHNWeYX+hefv3qe++9X5alJdrYWPvGN199772PS20lR60Li8Ig93yn/IZrtFx7vpTKjB6YIgFXurRvGYOFdQwY6ASsNgd7jDlXJlYXQAadRXLS87yw48kwEHxsiwo961yRlen9gywri1xr5G+41mpbqmmdHR1hsa5e/Q2h1PvvvZMmOfLw0ivfGg3p2ufXqKzAVqS55V5F4CN4gmvRNPMbqCIc3NfxnrOFjQ8AFYUNKAuuU6hSAw7BIRAQMSTGWbszH4RNoTxCJtBL5hZiv2UtpEX12V6sP/iCADg7HZfh6QXP9+QUBsKRn4zbfrj9zrs/3L7/wBhbFsXW1ueffnp9OB6P05JUWyqfCy59X4btinnGMZcndrxXjR9aSxB0wG+ALoVNGRkEetKCDEkK3mwvzHXXg0bnyc6O66wlPBpafpBjpQk8Pwi8k93Wb54/9tuXzx3rts4uqoWWmraDX0cuAACSJLl7++ad2zebrXkg2rp146OffPzD9388TMrSECJnnCs/EGHL8tCA0lVl4wMX75a6IhWi08IkjAzAkyGdKSU7iyteazUKwrDRBOmHCytVNH+QmzjXiaaJIQ0clQyCYK0V/da5Y29dOnNiqXlh2V+aC466vv8snoWAJzjnngyGZV5sP3z43be/+/b33/ngp9eKyjImgAkV+swPS6cMSFfklI51VRkhwKSiGKItGRLnLAwb84vrGC2poB2EXmd5iQXtIGoy6T0apsM0t4SZw2FV5RbAC5TnrzUbv3dh860LJxdb4aubjfWFYHqG5Wc3NH25QPXD4Oy5s6srK+dOn/nOf/3Ld//3T/LCEYEuCgHEWMWYQuURtUhoVD7AAmQt5qpWwBuBEMEc85pWRLa14ubmR8JTwouU1/I4tj1GdmIsWiLHyOm8LI2DPcAffP6AM3H1+Iojx5lbngunZMH87CLgVzGVvrm19T//9u/++1/97fbOviUExlBK4opkxFlgq8oyQYy7IuYc59rtKIy48kGEOLeqg7n5uRZUla5Kye2JBX8hFKO02B6mB7mtnMsMTRwVILjwlVAbrehbJ1bePL1yYqHxxvnuYqdZV8V/mTonZ0LJi6+9evzU6TeuXPnP3/nzH/zoQ20cOiLhOCJTJDxRWW3JAgIDIB7C/EloNguDhqlms9Fshj75ZZYeJPndfonI2oG/YYlcOtZOci61HVidFATc7QC9e+N+lsT/6ux6J6SZgKeEUfA7v/vb7bl2e+6//N33fliUlowGZABouBRCcSGh2Ubw+NIx217JlW8ITZEqYyqAKPKbgXCB3xskW73iWMdbisJNBtvDeKyd8BhUvNBO61IoHJTupw/3AkHnNqZlKK5fAAAopa5cef0/SHls88T3f/Du1s07RVUyRHJUOodcgvLQi1JdlZN+KQPLJAJCZUWSW8bagZQNHhjq9+32oODc6wZy1XosyTUAMjbRblTaylRMYMrY/f54mObOuWkYBqZCAAD4vv/qKxeFkBvraz/+4KO3v//OOE6JO8vQEoFUSnlFOaEyI78BquH80FgwaZlqt9IKllreQivgwIZxfGNQ6pZc8BuLJGNrSnCBghisdVZrbT1JYAa52TkYr3TbvG4H0yIAAIIguHDuTKvVOHX6VGeu85f/469GcYKMMSz0ZJgzqbwGgHU5OECSwpmSmF8arY0VjLqtcHFRgSce9EafjcrXF6Kltu8XeWkLT2EoRFFqq401xlMiQ/lgEC92mjMBXyEIgtMnT8535uMkI0d//b/e3jk4YFbzMsuH+2VDi6BBjigHQmAcCYxTfmbErd6kMnapHbYDsb44P47TRxU0I68ZsQVDvTwvBGMEjjS3th35LAjvjYv27vDs6rysNWs9XQKe0GxE37xyaWVpwVPy7b//4dbdOwzBr6iInbZahi3FyFQAOTiyjMiqIDP8wX5sKrM0Fy01vZankkwngBKY51EQkCuMFAwAuhFbW14GxElu9if5yWWqdy9/GgUIIVaXl3zPe+3Ka8JXZ2/d/fiTnz3qDzyTVTnTQE4VzBhrDBgLvkZboYpKB72REQjLQrQ8L5CSnBkVunJMhg0PqqooLJildri6smB1FZdF2WRU9//YTaOAJ0RheGpzbTQcRI3o9MnjX9y6/b33fuR0WREZa7l1aDJnCtJtcoa5CkSYW7HTjxmxtQ40fGWMLawttbHaCEeasM3clc1jDU9O4qQY9KuOR0T1VnN6BSglz505VRT55zduOufeuHLFOHz/g49Sq/PSWYaCI69SZ0rnKuZaTjkSUUrweJACiLUOR8AKxChP+3GWExDDy+uds8dXirKksjy2OHdidUHKmrctp1cAADSbzW9cvdJsRB9+/OnBYHL10rksGV2/eRuyoqiYCoR2ANbaZAC2EpFhnnHCS2z5eKATpxkgaZvmepIWIPmqD2eOnyuMLotiY6H51isnji12ar9tMNUCAMD3/QvnLwgh3333/cGkeO386b2Ht6rSRFCiY30bEAgG2mUjZ7WIShKeE35MegIUeh4rjbNaKB5JfPP8RqvdyPJyLlAXjy0dX56fLcT+n1BKnjl9qr/f++yLL5RkxzaO58UXXEBpq7SijHnAfM4YlblxhnkRCMO5xCwmqx2Ap2TXExcXwhOrXUZ2ZS56ZX3h5EpnGlofngsBACClPH361N7eLtDg8isXHj58IAQICy0srCHDuZASEa01rogREtAFyA75kdcIQ6i+sbly6cymFqw7F13aXDy3utAIvLrr9JTnQwAiznU6nhSBp1aXu6+cv/gPH37AEICQG+OACT/wPE9I6QCLsjTFyLdGmInv1OtnTpzfmAeqltvzrx5fOrvWDf0pOqvyfAgAACnl2tqaI8cFf+tf/obnRT+7eSuOE5cVK0vtjVdeO3vp8sLyinU0TrL9vb3x3o5NJ91WY3O1GwSyu9B5/dzxjcV2MGWH5urckPnnUhbFja2ta59+Yp0dTrKdvYFBBcCiTgf9KOiuNObmjdZZkggkBQar0pNCKbnU7bx+4dRad67uGvwanpsIAADP90+dPu2c3dvbTfP7raaP0keuCJkxZTnqc2uIyKap70uphHVmdbG7ubq8NN9antaLlc9TBAAAEVVVud/bv3nrRpykyKQl6B0MBuPUMgXSE1IxhpKzY2tL84F3fG1pfW1FKTE9u/Bf49kLeLL0//9qDuec1vrJMYtK61s3bz/c2SMmHRPSDxhnYPSFk8c2Vpc4Z3y6b7M+YwG/nHg5tFfSGGOtJcAniR1EREQp+JTM9P/v1CHgFzEwpd3Cs+QZvyP49GPW8j+njiClL7si+mqn9DJSh4CvR8BL7eDZC5j1Pl+hlnnCrzp4efuiuidq9LUh4aWjbgEITw0QAcFL6KAuAb92JPjSwUukoe4IAADEX9JBv/LwglOjAPzK85ffnvZF8JI4qFHA19r3q3Hw9LjOi+9gCrqgX+apgycpI/raJOmFZKoE/DxT9IuHL3lhHdQr4J9YFf8iV/HiL5tr3JLEX/de/1Mt/sKamMoIeJmofVP+ZXcwVYPwy8hMQM3MBNTMTEDNzATUzExAzcwE1MxMQM3MBNTMTEDNzATUzExAzcwE1MxMQM3MBNTMTEDNzATUzExAzcwE1MxMQM3UuClP8PNToAgv76XJWs8F4UvZ5F9l1gXVzD8CMrqel4T1ejkAAAAASUVORK5CYII=\"/></div></div></div></td><td style=\"padding:1px;\"><div style=\"display:flex; align-items:left;\">\n",
       "      <div style=\"display:flex; flex-direction:column; align-items:center;\">\n",
       "      <div>Step 20</div><div><img width=\"128\" height=\"128\" style=\"image-rendering:pixelated; object-fit:cover;\" src=\"data:image/png;base64,iVBORw0KGgoAAAANSUhEUgAAAIAAAACACAIAAABMXPacAAASF0lEQVR4nO3d228c133A8d/vd86Z2y65u6RIiaRIU6QsKbIkW3blWyOnTprYgJM0NRIkSBv0oQECFGhf+p+0RZ8KFG2fmhYo7MaxayT1NbYSW7Yl2pbkiyiJ5v2yt9mdy7n8+iDDsRMHBYqSsxT3+0A+8sx8dGbmnB2R6JyDfsVFRQ9gr9cHKLg+QMH1AQquD1BwfYCC6wMUXB+g4PoABdcHKLg+QMH1AQquD1BwfYCC6wMUXB+g4PoABdcHKLg+QMH1AQquD1BwfYCC6wMUXB+g4PoABdcHKLg+QMH1AQquD1BwfYCC6wMUXB+g4PoABdcHKDhZ4M82xq6utxyD74mR4QFELHAwRVUYQKebXHp/a25lKyfIGQ6H0ex4eGh6vxKiqCEVEhbyn/TqzfjKBxtX6o0PluubzW6mOfHUoHYPzo6cOT4+Mznqe0VOzZ1spwGYebMRX7y0cq1Vv1ZvzX/UXNnstDPb1DZhHZD82uSBbz10+MHTs4Hv7eTAimqnATbq8cVLax9urb6zsPreRndxPW7FWTfJm+2O1kZKVIE4PrLvBw8d/cbZO6YnD+zk2AppRwEacfbSr65dWVua32y+eX19qZHG7W6r3jaZAcfADsBJJb1QhQP+909N/eCx+08em/E9tWMj3Pl26FLLDEtrrVfOr7y+OH95YfVGM12pt+ubrTzNERywEwhSou7EoB0b6sbuibQRt9qPPXT69+89PlKrEN2aT8w7AdCOu0vr8fO/XD6/eP16vXV1rb3V7MRx12Qa2UlBgtCZXIJ1pg1ZnKdd8uVaN3o63vyg0Xh/YePhM0fvPjkr5S04FbYdIMnN65cXXvrV2qX61jsLyxvtZLPRNsaCs1JJYkHghLNZt510NqRpC5vkzU1HiAO1Fri33l9Ya3QuLiz+WZw8dOZ4EPjbPeAdbnsB6u3um+8t/uzc/KXl5qWN+rXlTa0NOIcChVRKoACXtlo2qYvuOrdWbGcLiD2pMBzAUpXKw7lXWkh46/LSln51s5n/4QPHRoYr2zrmHW4bAay1b79//SfPX5y7sX5jM11IrWEGQhLSDwLWuckSm8fYWsV40TRXSHeJUAQlrzRko9E0GjZUdhgieIkTL8435tvn5lbrf3zv0TuPTXrqFlkobONhrKysX3r38tWrVxfWOh1H1gAgAZEUBMAmzxU611zJP3pHZJtKWPIDI0MuH0hLo7lfdt4AUAAgGQQ4keTwwXL3H1+8eGmr9efN5IGTtw1XSts3+B1rGwE++mjpxtWrnc5Gp9VJUApSTD47aSy5JOW8Y9Km2biO2RZyjl4EURVkyfhVE1RZhiwClAqQwDGQAyQHuJm4Vy4vOS9qxtnZu26bPDC02/ePthFgeLg2Njqkrs5L05TgC+E5dMYpZIHMpr3l2quYthAdeoH1K44ikGXjD4AqsQpAeECERIAA4ICBSRqmzcS+ODe/vLK51O48ctehw5P7ot18Z95GgMmpidN3n7o8P790Y0GAzrrSeE6JQBvU2rGziIDCw3DAeQHLEGTkwiEOKuCVQCgQkgkQEQABmAGAGRicgWYzm+tudON2JzePdtMTt0+Uo2D7DmRb20YA3/Pu/73TOukuLS1cvHytQmGXLEibKy8DNBigN+ICn7KO4xRQcliFqApBGbwApAckABwDADAw3yS4ORUAKbNweSP9pxfeXG+0f6jw1LFpsTtXatv7LEFEJ04cf/zRR9778B9c1q35lBn0FAdSdgBy8hgHnPTZ5CAUhGXwQ/R88H3wQoCbFx/LzoJx4MzHEjcNgJyjxZZ54o0r0pm/LHkzk+O7cbW87SOu1Wr3P3Dfdx57xOUp5AlmsdCJQhMJ9pwlBiYB5KP0gQQiCiHJU6R8DEKMSuBHqHz0PfB8UAqEBEIABmJAMLldq8fPnL/4kxfeaLTi7T6W7WjbAYho8uDEw2e/ePvMobjRwLSjdEJOlxUFYMk50IazjOMWNzdcY8VuznNzEbvraFMARKFQeSA98hQICUIAEiACEQYSFRidra8sPfXU0+fOX7TGbPfh/L+3E8sZz/MqlfJQyY+bdURW7FyamaDqWaTcQKcFSZfTGCiHwQp7AbSW3eB+GJ6C8gHwIhYhSkfsUORgc0JAcMJTKlB2M84bK3pj/rJnn3jy6bF9lZN3fEHK3bRG24mxMjMiDIWC03a77gJtUGU2zcgfDEhol1kdQ9YE0wabQGWEEbm5hMIDEaGKUPooEIVTRggnhZJCkWKL3Wb72rty6T3fNU1Ob1288JNnJ0ql0uz0lNg9Bjs0UGdNq74WSIjT2DB7gSXPGutUVJVRiDq1qWObQSdDZ9iNQrnGW9eh2+axBAfHqFSTKvQj4bH2AgKn3eamvnYJFuaou+4kA/ob68s/++/ntIFvf/Mrx4/MSLU7tk53CCBLk+W1Zasz4Qh16gQBETCmziEG5Efgl0zeRpdi3oYmoFQQDbq8gTdex8k7SZDwQ+n50rFK4u7KQnz1olu8wu0lYMMWEBxD4/pHC/91/rLxq98hdefRQ0S7YJm8QwBRGPphIKX0SRK5jk4NCPQYnCVhhCybcgVs6jqrYDUnLWwoqZTxI0Si5bfRL6NficqRiuvBxmLy4Zz+8DUybXCWgS1wDhlJ5djWs/zZqxv2+culUjQzMSJ7/h2LnQBAxNkjR7/40MNvvvMeGEeAEjWwtlqAcAQsPd8bqKTMVkgTr4LJXGfTEsHwBIYRWIb3ns9K7ydjh0ze1isfxjfeRN0EdgCAAMhojcuzDC01OFhqmqV3lxfbv/yrx06fPjKhVE8b7NAMCKPoG998/NVfvXHxwnmdaeEy5VHXSucYAckkDCyCALgKAKa96mxq2xuAHkdlyFKhO5BfjLdOsk6xcY11h4ABAQAQ8OYCjck3lck8GDKGks3k35ONhfy1v344+crd06WwdzeLdu5pYebw7d/9/neDUL47945O2qnJ0WZAntXMCCpgIg/CSEglvFC3Vk3ahrTF4EBnYDvExi1fAGBmg8CIgEiIAAyOASgoTx7VIweFlA6cMVrn4s3l9t+8+M5mK/v2l44M9Opm0c4BlErlx7/1bef0+NjE6vLyxbl3s3be1Q4ArdGUpcIXKCSGZREMkl+ieDPvtsAaBIdskS2wBQDCmwEhMANKRTKMhseGpk80MTIuzQwDKDCi28W3lsHYD1IQf/ql2d402NHn5SiMHv+j705Nzb70/Au14QM3FpcvvHMlTnPLbLVByoiQHYMISQXSH3QODVpEiQbBMSIgIRHSzddIEVkoVRmm8vDowUOjo2MqcTKzBl3XOs4ztraFOOdiNXetMuh//a7JwVLPXYt2esFSLpfPPnh2bN/o4uIiM77w6rmnnvn59cWVXLMzGgmYLBGQHwoYdMJD4UGyAjkCMBLhJ2/wklTlGg0MWRkE1aGx8cnR6mA10isdzXEujIkNO8tO54mW1xudJy/cCJR65OSBXrsfFPNu6Cc1643nXnz5X/71335x7nxqLCKR9Fl5IigpESW50yIgl+HGFd1eJ0QSAohY+FFtP5YqlaEhPyhBNFoaqM3ur1UjEWv7wXq82MrWNKRGsPAo8EuD5fFK+fTY0CPHD37t1P4DvfQmdsFL9kqt+ugjXx0fH/vbv/v7586dj7sJGwJE1CkSespzNmdmDPeBQcvaqw6JIMhym6AYLkUzBydK1YM5hk1j17ra80Q19KarJW1JJzb2MDaW87Qb8xrAHFCa2TzPvnX/bSPVgWIP/JOK3zMJAv/0naf+4kc/9KPw5XNvrG812WhGZEQmIyiEIBID03ZwDPzQRQMOIeI2Jp3KyEEoT1BQGQqCAYB6mq7GOaNXKUezKESju5o6BBMb7XJsx/EaCWR+5qJBoD/5g8Nh0BMv/xYPAADKU6fvPv0jz5+duf3pZ3/29uX3LTMhogKAlCmEqOQP1LQVufRY+WG4P2LIo2jThllOw54sKQwV1LVdbGYjA1CJ1BT4pp5owzlyorUxrononEPLz859NFb1v3rPlNcD+0U9AQAAQRCcuOMLUqlKZfC5l175+fMvmyxD51jkTEIHnufXJGtrWChFMsz9EMLICoo1mYxHCX2iQc9vpW69ncqKXwvVeGatZYvWKtQWjdbdJFlHkpvw5OtXx2veqdsnCv8gs1cAACAMw2NHDg8OlA4dOuQcvPDSqzbPUCnMOrZNRkmpSqEAQiYhwQsy4WnlgXUmNUIFByJZUSSk2Op2FxrpVCWYqPqBcKLpnIaWFEaDybM2YiDoynLj5+fnjx86ILw+wKcKw3B2ZmZoaDjuJOVS6cWXX23EsSSipJ1toRkwFAwKpyjPnAiMCEiS8r0MYCm3LGnY91SANRCb3e5KwocqYrTiWzamoRGhC4IdOKPr7aa0wfkF+fb1tVOHDihZ5GZRbwHcbKBc+uID90xNju+rVf7jP3/aaHfQc9LZzGgoWyoDS8VgDRiCioMQAg9ALiama2FIiVC44SjM2VhBA4InqyEgJA0wkoBBO+dYO1a5zdqZMY6LvQ/0IoCUcmz/aOD79953Ju7ETzz1TG5SZ41wTjtwDGAdG22NQWDDbJ1Tvm+YIbMCSPle2YMALIPNrfWVGq3icG7ixKaOGTjwpQe6pGyeJVz037HrRYCblaLo8KHJxuk7G1tbL7xyLjGZFILzRHdaGoRARYAWkZnYWcMOfF8h1LXzPKEk+STZ6MRakIRSRqGVOiHHIXCoqGyTAS7l3S5//LpRYfUugOepI4dn0jTJ006n23nl9TddrpUnMItzdgZJAgtEh8ismY0Gm/iBRVhNcs1+LfRICM9SnndzsAZQEUYekWaTprVAn5ydmB4bLvzTgt4FAICBgYF7Tt81UC45h6XS4Au/eCU1iUBQqc2QHFhCkJJMwg7AIiVMzvecBss2RdcA9LV0GeV5lgCA9HTSzeI4lHzm1OzXHjg1NTokC70DQ48DAEAQBMeOHpNS+UoN1wbPvXb+vcVV9COVNLTJrGXJTBEzsGUgB9oZEYQ5Ul1DrpQAdFqgldaHXOtmKwWtT42Vv3zm1PSB4V54k67XAQDA89Th2ZnN9TUAPTpS/ecfP7Fcb5PypDOGnbWpZCOBAZHQAZcMQyCFBGIAa51DKIVBavK4nYK1kyPV7/3+XXceneqFsw+7AgAAlFKzszOrqyuI8NiXz/74yZ+2dSoYEJFzgi5JRSTB5cwOraNceiCZBCkiQtBJJ2k3KdOTw5VHj1S+/uCpocFy0cf0cbsDABGrtZqvZOh7J48fvnF99sXX5rSGQKEzlHeJlSel0I7ZAwCbtYyIylZ6Ahl11qyvdtutkdHhe8er3zt7z9j+oaIP6NftDgAAUEqNj487dkLQmbtOX718abGVBA7Ycp7mmXUSWIaZs7nRiZEdwMwCtruJNBqIx/fXzpyc/eYdYyeOThd9KJ9pFwF4J07d5fnh23MXJg5O7N9/wJiPDHGSJ5SLNM1TgHLNYdLNDQgV5HHoggFfqIBwZHToziPTD8wMnT1zMir11ifDuwYAAPwgmJmddc6urCxP336sG9dzx9zJPWe11lljU1gDADrNvYGKcKOmkxycmT40MX7b+L4T49X7Tx6pVHvl0v9JuwkAAKJS6djx48P7Rur1htZpt1nvZMkH11f1RifPOqkzUnmS0HY3R2pRbXDq0FDltoOjh0dLX7nv1IGxfUUP/3Mq+DPh/1vOuSzL5j+cf+vCa1cuX7kwd2lpZa1Wqe6/7dDU9EwnSdaWln1yE2NTfimYOjjx0AP3Tc9MFT3qz29XAtzMObe+ut6NO+12qxRFQ6OjfuAjEQCYXK8tL1+dn69UKqOj+w/eNln4ivd3tYsB/testUTUOy9AfG4FAjBAT5+anamo5Th/6uuertD9EIa+QXEAe/3Mf1xxAL++/u9pip7Ykt3LBkUB4Cdf9ng9MgNgz06C3gDgz3zbUxUI8OkL0M1fSAN70KA3ZsDH7UWDYgHwN77vQYMemQH4W8uCvWLQIwDwGQPeQwbFAvzuU7xnDHpnBsBnL0R7xaCnAD7dJ2efb22D3gO4+XtCfz0bbvH9il4D+I0H01v87ENPvpZy65/0T1cswG+f61v5cv+59doM2Fv//KH37gF7rj5AwfUBCq4PUHB9gILrAxRcH6Dg+gAF1wcouD5AwfUBCq4PUHB9gILrAxRcH6Dg+gAF1wcouD5Awf0PQvs0IkmFXNAAAAAASUVORK5CYII=\"/></div></div></div></td><td style=\"padding:1px;\"><div style=\"display:flex; align-items:left;\">\n",
       "      <div style=\"display:flex; flex-direction:column; align-items:center;\">\n",
       "      <div>Step 30</div><div><img width=\"128\" height=\"128\" style=\"image-rendering:pixelated; object-fit:cover;\" src=\"data:image/png;base64,iVBORw0KGgoAAAANSUhEUgAAAIAAAACACAIAAABMXPacAAAR3ElEQVR4nO3dSYwc13nA8e97Sy1dvU7PPkMOOdxFiqQl2nQsWjJkSZZiC1kAO8hiHwwDySHHGMgxtxyTQ5JDDCQ62IYTx0tgwJYXyZZkyRKtxZIoShR3cmbImel9qe0tXw70JscygkDT1STrf2gOCQLzqn5Tr+tVVZNorYW87GJZD+B2LwfIuBwg43KAjMsBMi4HyLgcIONygIzLATIuB8i4HCDjcoCMywEyLgfIuBwg43KAjMsBMi4HyLgcIONygIzLATIuB8i4HCDjcoCMywEyLgfIuBwg43KAjMsBMi4HyLgcIONygIzLATIuB8i4HCDjRLbfPk7UuQuNK52YyM4U2J13LLqOzHZIIw4z/JDeIIxeeX31ybevrA7VUFOUpB+amjhxeP7IgUXfdbIa1YjLBoCI1hvdH7904cWVa6+vtJsD0x4moUqEgA/MTH/qxL6H79kfFLzRD2z0ZQNwcWXz8efePnll5a3NwXonGYZpt9PXSnHBHE9MVmufO77vDz68+9D+HaMf24gbNUAUp29e3Hj85LmTl1fONbqNXtxq9HSsgAgsAZAUQnoSHfv7O+f/+pP3vP/oPu+Wno5G9CZMBHGc9MPk9cvN/37qzVNr11d7/ZVGNw4TUgas5QyF5CqKSIVWobXJd8OWpHi90f7w8UNTE1XGbs0TtlEADMMoSVQnTJ56ce2ZN1be2Li+0mi3B2GapKCsYEwITiYVjFkTQtJVYQ8hjYfB98PWlX7n4lrnox/Yf+TQMucZn7NtRVu+SbEyV9dba43eGyvx954/e7axudLqxUkKxjDOuccZWQGYhGkUboi0w5N22tm0OsJibWBmXj17udGPX7u6+unu8L7jB91bbjraWoDOILq40T2/2nn59NVT51qvrlzfHCZKpYDEBeccXUfEvX6SRixusuZlM9gkigTjvFDEYpWVp5RbuhJS+82VZvpcN9QfO3FHuRhs6ZhH3BYCWGvfvnztxbOrl641Xz61en0QdbRWYJngjuuQ1jqJUp3AsIn9dd28yOIuIjHHkYUaBpOxP6VF2bICgBdb/vTFzuXBc2eutf/wxMGDu+cRcetGPsq2EGBjo7m6dm1tdeXCpfXr7W4vJWUIgTHOAazWWjKgflutncHeVQdiJqUWPhTqKpjWbsV4ZeI+oQMgiHiYwpm14b8MXn2rN/jL+47efWCxcEtMR1sIcH2jsbmxobqNTnuj1ezETHIuLDnWcBUDqUTHXd1aheEG0yH6LgUVy3xwq9qfsDIgWUAhETkBAFlARsgakX7i1FXr+H/Wj08c3V4tFbdu/KNpCwGqlVI58CqB47OUkp5CB6UE8gBdtKR7LTtsYNhGG4PjGLds0EdZVG6Z3BIJH4QLnAFjCAREQEBcaOKboX78pfOr11obrd6Dx/csztZv6sloCwHm52eWW63BcLBUL1+Wl3Sc9lPJHWtRGQUEGhkgF+gGJLgWHnEfvLotTIBbAi6BS0L65VxPN14IraJOGv00SqJeP1Lq4Q/s3rV9buu2YqvbQgBHymNHDrmOM+z2z7z91nDQVMYRDgFzE8FTT5I7ZX0f4wqZEKwhvwbFGnglcDwQLjAOZAgAiQgsWAICIAPIgbHE4s82BsMnX+kNBp991Jup17ZuQ7a0rT0NZYwtLy227ty/trZ2dfXJOodYDw2SZG7EMAYBrm+FJFUAQPAD9AroeeR5IH1ABgBABqwGY8AYuDEXWQPAyaJGPNcKv/iT01MV55MPHK/cnO8HW76+DwqF5R3bj931vvcfOcxtivGQkohR6qPxrGbGkLVAHJkEAiDLgLiU3PGYV8BCERwPhIOOC9IBIYBzQAC0wAjIqERdbne+/vSrL75+Vim91duyFW35SpgxNjczvWNp29LC4o+fP8kRkHESsuB5EOrUWFCaVAqkKQQatsnZRNXHYAIKdXCLyCUhgtXIkDT+/DhABo5AbUBrE/bePHXhayW+Y35y57Z5xvlWb9F72yiurjiO47uCURoN+0wISRTFifFSII4JQTiAKKKoByyFSpUcn8Imm1igOiFwcAIQEtEyq4mnAJYBIUfhCT40dhjS6vleuPGSpO/tmHn0oXsXFuZurjXaKACIiKxBHTmq3xmAF5RBqihJHb/icSc1iVF9SLqg+2ATqEyBj7a9gm6RuIdOGaWDHJlNhUAuOJeMg5E6pt7G4O0Xnei6J2HYvPqDZ16YmZ484cj6RI2Lm+ay3agGSra9cd2oWCd6SOT4RSYpjrrCqwrfQxWZiMiEMFRoNdlpKNbo+hkMh6QTKM+yQk14rhdIl5EURL1QX7uYnP4xtC4DWk08HoiLZ09//TvlOFEfOnZwcX5OyJvj3vKIAJI4unTpbJrE3IIwMSlOyNBSrJvIA+4WwAt0IpAMpn3oAgoJhbIdrGHUZLt+j/tVz/MLHslBh3WaG6+/qC6/guEG2EQhGotkCbzySxdX6dnT3Pe5dBdmpxm7CeaiEQFUaxOVap1zXhScoY10rICDIMYJkHEZ6NIE6siEDTCKoh52pJBSuwUkxZpXeKEsjQxi41y70njrObVyysZ9RhqsNUhkmWZKW4yVerkVmpOrMigLKacmKmLs35NHAYCIC4uL99x735PPPmuVBkCJKaCjDGNEiMiZFMVSrKdRerq3Biaxw6ZhDOoL6BegfdEOGsO1HRYUrfxscP0M2AStAbIAgARgiSw1EiAtOn27sjrcfOJCZ5Def3Tn4sykEGNtMKIjwC8UHvn4oz98+umTLzybxqmEhCMzmltLiMh0Qsh4IWCMIVjVv251bPoNQIcKRUhiUkMjL6i0Dapz49IQAwIEAEBAzpjjBYkIoFg3XllH5tnGsPvCarMfPXp8z+5tc+NsMLqzhaUdO//m85//x3+gV195LR72273YsBilZ1RKABJRSs8Wy8wPuF9Km1d0EkLcI7CgEjBDTHtAGgAIAIEQAZEhAhAI13GqC4W5HXFQJmQMQfXDM5y+dtokVjySmIPL8964Pu816qciTv705H999SsXzl967fXTvViFqSXGCYWQrvAKhjvEC6SNHrRU56q2AF4JrRJ6wOjnC12GNwKGAATMcSbmdwXbjtj6wqrm/RgJOAnJPbdeLuyanvj4gckHDs4dXl4YT4NRny8fu/tYrVJ+6kc/vPvY3Zvt/re+84NGp6eMMcowHgsGljhJB4tVMMoO2xYBuUCNYAkRkCFjyG8stRBJONXF5ery+6vTC35QhPbgfBymVoBBq0W7H18P4h+tDl1xzXPkge1zUozdoxWjBmCM7dm7f9u2JTK22Wzt3L70zW9/97XTbyttyWjSKRJwj/FCkUBory4ptHEHUgQgZAzxxiU6QC7ccr00v7M4syuYnK9XK5Nl10VNSXQ+Mspq0EoTdHqDdc/5ITKBawXX3Tk7wfl4GWT5bCgADIfDZ559/p//9Qs/feVUnGrOJUoXHRedggU/STUBgBqaxjlM+4xxxjkyBsItTS3Wtu+tbz/oSscgR4RtE56DcK0zfKsdXxqSBkHC4Y47USrM1WrbJ8sP7i7dt292ea4W+N74XK7IeMkeBMF9H75HIHzh3x976oWXlSLS2oKVCEyQ7/qamGZFW5y3URc49ypF6XtMFoL6tuLc7unJ2ZoHmsxaN1pth5NFb7JcPCgcwaPzQ6VAk2XdYcQJHYY/uQySUZioO5amy4Gf7Yb/suyvmfi+d99H7i1XSqXHvvjEU8/1+iEQs8gEMk1MOCV0fV6qxoowKIt6veI7jEkVpxE4/ZQKUvgOnyrhtV64PtQzZT5f8yUHpZOLYWQMKaLmABmgBHqOkHNEzt63POfI7LcdxgEAAKSUhw8f/qvPfXZ+dv5r3/zW2nrLUMIAuINKEfEK9wO3UjTogQwiWRCcIzM95plQK2tnA+E7fCLwu0naGsZgeeCwnRVvSPF6YsgYTWlzgIyAc5ypoitFyXP2b5sah8cdxwIAADzPO3hgnzWWyHzpP7/RGyRGpWgtiBQZUsGTTlUCCTJEkBI3jguOZxlAagSnecErnnQl2+zptfZwtuQsVl1lmR0mDUWWrCbVTVirOzh10VZ8UXSbFd+ZnazwrA3GBQAAfN+/89CB2kRlafvSFx770tkLl4w2zFomhOm3tSj4QU1wbohFzEHXQ8fhUoTWXtWRjexsQUiEkh/Eylzrx8t1f/eki5x+1tbtGJDz1KaNjnGtbg7LG5G+0upP1Uo5wDvyfX/Prl2TE3Vr6Ytf/o9TZ84ZBSwOuaXYYt9YjQjWptYQgBRSMDCuP1D8rXAwUOmcixWfF6aqG91eM9Lbq3K5VmilYRynxKQnBQdrrU6VUkxc6saV6+09cxMy0wsV4wVwo1Kp+PFHHpibrv/t3/392vqmjofcaml1amxoDCtpDMAw1BHT4LuEjmDouhtxiJakFFWfzZYLgyh0XVFw2bbIacemQcZxWMDZVAlnJyrGUi/Sm71o5wxluz4eRwAhxML8nO/7f/yJhx/78lf6w0inMVjg0DM9qVBwZERgCC2QIWC+47quQWiohEJjmahxb7IkhYA0MY7klZIbRdbh4DOYqxcCXxqV9pM4KTHK+v+xG0eAGxWD4JGH7j9/9uzjP3rKKmMtSC4gFpYJA8gZFxxNZC1RwgAZOY4bEgzCiMAWy361wFymIooQmeMIL9XWmKpjluemfcF7/UHcaqY1l4iy3czxBXAceefhQ3/x55/irvz2954wZEnFknEWc4XWSs4YMEILEANZKoBDnAty3Z42Tc0C6xiA0OqBSQaxTqOU+bBjqrowVQuThJJk21R1x1xdyoyvVI8vAACUSqX7P3r/7Nzc7NT0V7/xrUa3hwTcGq5iTWgM8SIwImNBAWlg3OdOUEyUXlHYayum09hiJxWNwVBpveT7SwsLYZomcbxYL91zx45tU7XMbxWMNQAAeJ536NChz3xaCrL/9G+PpYOEeQH3tOwZZbSxVoCVSJCARiYQGSEi62lohUoiWMZSI4HLguTLUyXP88MoqfrOgW3TSzMT+ULs/5TjyH379j78yINvnDn9/EsvD5LQkBEAcrhuQCM3QiIhsyQVSiQGiNwRHInI6jgmayaLharp7pma5Ghnq8EdC/Wds7Vx2PtwUwAAgJRyz769n3jwI82182cub0SpFp4wGmnQIM40505ZMsZtghqIuGRgGQCplJJUgPXS9O5dU7MTxclqcHD71N65etF3s96mn3dzACBitVabmp5enJnsdPrdYajtoJ8SE9p21i0QSikFpXFiIAW3lEToc0StMI1cRktutH16eabiH1qa3jM/WfDG6KM1NwcAAEgpt+/ctffA0X6/Oxj6q41uJx2CNtxaaqmUyAGSbqDJKM6NJg8sqjDp9ReLcOLE8R075o7sXVqcqozbv0JxEwE4hw4f3VzfPP3GK74r+mHU6HUTg5YIjE6Sy8yY4vQ2K3Xc6juOVBwCRjtL+NCJuw7uXTqyf3l+spr1RvyWbhoAAHA97+hdd33w3gdefuEZLjYcZolSIrQaGJi4eQ3TEDDQuliol5yJ8vYS/8wfPXT00L7pifJMvZL18H97NxMAAMzMz//Jn36mOjGVfPub6G1y4UxUytwvSa+40R6ubjY3m+uuCHk0+ODS/Kc+dv+RO/cuzM86jhife5C/Ucb3hP8fEVGr2Wo3WoNBv1arBeXilSsrK9c3LIh+GK+sXttoNurl0v33fPDY3Ye5YHy8n04cPQABvMc/jFprYwzd+DAZAFlinDlSjMmZ/u8uEwB4zw1u3kb8M0K/eMn4GuT4dBMcpLd2GQLkBwFANgCY7/xfNWIAfOevuUP27wG3u0HmAHCbG2QKQLf5zgfIAuDXl2AEQL9YFtymFOMxBdEvvrj9yhTgVwcD3ZY7HyDrIwDfYfCr19uozKegXzOg29Fg9AC/c//efgaZHwEA8M6FcdYPa464bE9Df+NP8Nd+d7swjP6e8LvsWfzfX733987GsNED/NZrobf+jn63MnkPwN+cdt71r936ZfhYyrsZ3BYzzy8bj7Ogd3Qb7X0YS4Dbqxwg43KAjMsBMi4HyLgcIONygIzLATIuB8i4HCDjcoCMywEyLgfIuBwg43KAjMsBMi4HyLgcIONygIz7H0d+9RjrqiopAAAAAElFTkSuQmCC\"/></div></div></div></td><td style=\"padding:1px;\"><div style=\"display:flex; align-items:left;\">\n",
       "      <div style=\"display:flex; flex-direction:column; align-items:center;\">\n",
       "      <div>Step 40</div><div><img width=\"128\" height=\"128\" style=\"image-rendering:pixelated; object-fit:cover;\" src=\"data:image/png;base64,iVBORw0KGgoAAAANSUhEUgAAAIAAAACACAIAAABMXPacAAASXklEQVR4nO2dWY8c13WAz7n31trbdPdwhhySwyElirQWaqGo3aRkSbah2HIC2HBixHYSIIgRIMlLXvISIL8gL0lgGI5hJEFe4ixWLMlyZCiyE0mWLJGUuGghh8sMZ2F3Ty9V1VV1t5MHGnZsKQgcZLqamv6e+mn63Pvdpc65t3rQWgsTioMVHcBWZyKgYCYCCmYioGAmAgpmIqBgJgIKZiKgYCYCCmYioGAmAgpmIqBgJgIKZiKgYCYCCmYioGAmAgpmIqBgJgIKZiKgYCYCCmYioGAmAgpmIqBgJgIKZiKgYCYCCmYioGAmAgpmIqBgJgIKZiKgYCYCCmYioGBEgd9tLbU60fJa5Lm8UnJ2zdU523IDAot6R8wYe+Fy+8Sl1uU4s4JbbfcK795DO+Zma4LzQkIqhGIExMPs7Dvri93eu53e2tUo05AaGxt9sFJ95Oad992+p14LRx9VIRQgoNOL3zyzdrHfudQbLK4MVtvxINX93AxlxtHsnpn5jUP7n3ho755d20YcWCGMWsBaOzpxdnWpv3Fmaf29drzUigdRNhzm/cFQ5jkiug5O1cNP3b7/C0cPHrvvVvZh3xVGtwkTwFpn+MM3Lp2/unapOzhxubPWG8aDdNCPdK7AEFhDoI3CAcm///eXVlZXk2H64JGb67XKyIIcPSMSYAydONt67e3ld9pr715pLfWyVi/qdgYqywEJwTJOQoCKYyBFCi3Yl97sJ8ONdy+tHb3n1tsO7PZcdzShjphRCGh1B2+e7b12bun0ldXLveFSZ9AbDON4aJQCAI6MM7IyFczYvA8qUWmECHG5dkLlnSR9u9P72IUbHzi8f/fcNkQcQcCjZNMFtHvJCy+/89rb7XcHybsrVzcGaXcQG2ORrOO6aAyzmiuVJ910uCHskJNSwx4Izh1UKrjUitLX376y3k7APgZsfq75IXOwiQKIqN2Nnv/R2z946/J77eHZdnS1tXGt61EwAUwwYKTzQd+kLZ73KG6ZtM8ED1yf/CpVmlidzp3Scs46l6P+C28sRvmnb73hlhu3V0rB5oU9YjZRgMzzHx0//e0Xj7+3PlgZmnZOFggYcua6vgcyV8OIJR3sLmHe0XGHG8kYc8IpVmqqcDr36xZKFn0gV2rx+vJwPT1zod3/TOvGIwd3Lcw1GPswTIVNFHBx8dLxE2+eu3hxpS9T4TDLCQUCZ4igpEyHjh7a3mW9/h7TkSMY9wPyqqa6a1iaNk4JnBJxB0AAIFjKFVy4GsfphX4ie4jHLN0wV3fEdZ8zb5YAIlpdXb+0dDkdtPLUgutz5hMLyJLRmrQBmZhoRbcvgY4RLLohlpvKbciwCW6VeADcQc6BIRAREgBY4O1Uv7bYMs5iK84e7c8eXJiuV0qb1ITRsIkzYOf8rv0Lu946f6EhTC9XOdPMsdoIJI5W66hj28uY9REJ3cD6U9qpq2Ca/CkQIQgPOAOGAAgIiESEAGgs6wzkK2cut1rtqHfDY6m8eaG5Y3rq+s3XNksAIu5Z2H3v4UPHT70ZnTnnG8cKDQIkOsoIozRxhn6Aqs64IdfXft2EMxQ2wKuC8IAJQCIkBARAAgIkAAuEZGEQZ2dylQ9PgdXWqNB36tXrNVnbxBngOs79d98Z93p/dv4v485gusYyg0qERpgYObIQnJ1UqVstLRkKpiCsol8C1wfHA+EQAACRtWAtkAFLAARgARgAyyWcbeW9/zi5utENHLj71n2h729eWzaPzc0DPD944MH7v3Dp8l99/W8gTxxrgQidUsh4Zklyx7oBoAtcYFACL0TPB98FNyThwrVl32iwmrQBawAsEAEQEAEBaVrfkM+fPFdFmmmUblrYfT0uRJuciCFOTU09/vBH33zrzLPffzGo1X3haPBc4aIGlVvQhoxBbcBqqzNUQ2YlMkQuyPUJEXROGpExMgzIgLEABoBAMLDWWL0R5y+//tr+Ot/erE/VqpvbnE1g0zNhxti+fXs/cuO+f/yXpxkXnHMOCMgFOswSaQNSk4zBxOBwEp71q9jcAdUdUNoGbkDcBeRgDQpNSgEYsACcge+iTEEaHfeXW+vPfG94YM/2h+8/7AfXWY42ilpQEAQVB2TSi5CQoau1yZRhJRdQydQmESQblHchKEGtQUi0liA6wHzkPgqfGCGzzOTAGDFkjDE0nAE3iU27du18lqyfz3tPP/fCtnr1ztuvswr2KAQM43h9fckBZbMo7oGntfA0CuV4VcdhykirEsgHoBOwCmrbICjT+tsAAGQBt6PrI3e4AOEy4TrcQa6kkyWmuxqfe9XJN1xuzRCPHz8xMz1TrVb37dnFRZFn3b8Umx4oEbWurrc32p7DkUOWJ0MA1xB3TS6VYQEvhUwFJrdkJCQGrSY7A+U6rL9Dgw3YkUN1J2dTbrnku+RZJaxU0YZcelcv/hgGKwDaCJQJLS1ffO6Hr2TkPfn4kbtuuclxnc1u2v8LoxgpSZwoY5VSHlofeZYPJSCzBrnmwgL3oNyAvKfTDSSDMoI+oHAgrNq8g+uMhU3HcSqVMCTl9wbDq5f6p17WrfcwH5CRFsAYQkB086sb3e+dumCdoFqtHti767ooFm26AEQsVauuF1QqJTLKcV2maKgzDYy76HEHUFBYk7AXOszmG2AUpQPsOcJxtBdi3mFrZ9ABcrdDHueXTm+885Lur9osZqTBWgIyFhRKl6gLPBrK75zvxM+e+soT/MCe2fG/YDGKGVBvNOYX9t56++0nT7wBZKslpiKldW6RMUwYWe4zVqnmeocZWJP1wOY26RjGoLkTgxB6F03c7l+cSwbLZv20SbtAGq0B+slpNiMEolSy3HCQvLshr5xeW0/VH3z80N0H5gJ/rI/SRiGgUqk+dPSoUgqBLr53WgjFdMqsBeYYCQgoHNeywFbrTHA2rKjeZWsyE7UBXQrLkGekEoBTRm4AaAQCIgYECACAgAzB80MZNlhtuy5VNbFBkj9zsZs88/rvJ9mjh2/wvfHdD0YhgDF2z933p+lQKV0q+e+efcdzWTaURkvGmJY5YOwzdEWgpmZ5uc7cQLYvGK0gGxBYUDmYhFEPwAIAASAQIiAyRAACxnnQmHfnbhjWpiwyZq2WeZrAq6tkf3CmFZnPHr2xHHgjaOn/gRE9rnHOH7jvaBhWAdjs7O5Wq3367NutQTqUBoBpKRXGIiDkROjx0rSrVd5dskaB0QgWySDpa3+KITJExGuFamCuW5uZn9p3CJs7eySGqTRKAzJA6MV4cjUCfskJ+KcO76mN5Tna6J6Xfd+/5/CRerV6ZfkK587l5aXvff/F53/wUpIrItJSMo6ej5oxCAIF2y1xGV+la1mzRrCECMiQs2sjHwARHHdq597mvrumZveE5ZIbZVkebyBodEkrK1l3yBZ7yT+fXi55/BN3LATjtxaNNGFhnB84ePOBgzcDgMrlXXfc1WjUn/ru81GSGUtWa1Q5B4aCU6lmWOAEDbSJkRFIBCBk14Y+IAIwEUxtq+3a7zX3BNNzjalqo+SUHSCVE+UdrY0BkEwx3onSc1edf3rjii+8ozdvD4Px2pMLyxgdz73ltlv++I/+sD5V/YdvP73W6oJlJs85EaIFZl034OQTeMg9ygZoJAJjjANjVviNub21+QONnQcF5xZZdyjLLjZCd0+jrICb1PQNGrJWqShOV5CBZvaVS2kmH75t+1SlND5XKwq7HX0Nsnbp4uXvPPfs17/xt1faA0NIiOgI5oUkylyE2lAucxO1bR4z7tbqJScMnKDmlHfUd8zPzW6veQhg1qKUtJypBJ4QvSS/0M+WhqqrQQMD7gjhztRqO6ZqB5v+pw/t+PjhhVp5XC7/FlwzQcbm9y18+Te/2Kw3/vwvvnphZV0bsNIy4II5xnAmAsepsFpTauDVhtdsBL7PAFWap+TGGkKHhS6vl9n6gK5EcrbKt02FocdoLdJx1jfcaKsNXe1HDBCtlj++EgbOY3cseONRqxiLolWpUn7yySf9IPzrb/7dj06cUtpqmTEE7oEkjV6Vh4HrlJlT0iIYMp8zhMAbcE8nShqzPXRCh9VDv5/JXpoj6bKDO6vuUGmlKDYIZHWet6MYiQTiM8dXmmX3noNjcYAzFgIAIAiDRz/2iDU2jr927vJqmkstc2Ys83zgaG3Z8wRnhNYSkSTHuBxd3zAgZYWEOYdVPVdw3k+Ha/3htpKYLTtkfRroZWVSElaTVHlvyAKHvbNmXziJu6er26drhb+TMy4CAKBcKX/ik483mvWnnn7uqWefb3f7ShsOxBlX0YZ2glK5KTiXlmXCRc9jrsMdNyOzonPKYdYXHsfQDZPcrET5DQ023/AZy6BvzmeEAIxsJrPOwLjWvL6oPnpoflu9MhHwc4RheOzY0d07d1qlv/X0d6NEmjxDAJcgtTCwNgQyjpTWAIIQDkdiXhArcW6YxFpvd6DM2c5mrZskrUwueHyh4VkLrUwOBXc9AYDWqEES5c36xX7WWOvu39Eo9nbXeAm4xu753V/5vd8WrvjWU9/dGAx0ari1jlHS2kgpXm1iiEaCZmggVISuYOg4rTxDDazMGy5zWGmQEHA+HXJj2aVEL6baES5Hzgh8jnMztUTa1iDdO0vF7sXjKMBx3QMHD37x8589fvJUcvZsJrWWQyASGCnmKCY4MCAwhJastgS+E3iuQegaxXKyHOrMmSpVOAdlDQqol/0KGkJrADyBu6psR6MSDfp5hVHR/8eu+MeA/4n9Bw586XO/2qyUGRlQyuYZV7GTDnCwYeIe5IlQCWURZbGWUillHTdzvOWMLg5sCqISlD3uKsu0Rd93S75LSjOr6w7bPV32OSSdthwOiajYZo7jDLhGUAqf+PSvDKX82je+ubi0AqQpTwVylqFEsoIzBpzAEuQAhkLrkusIEk5szIbGGnqICJq6uRoa0MbKXE7Vwp2Bma1VQcrd26YWdjQdp+ATm/EVAADTMzNf/vIX5+d3f/Vr33jx5VeV1txaZjXXUgNaS6xECGAAgUBBiSNzvEBbe1UxFVuutJU2VtiRdpAZBoxx1qyUyqVgV7Py4M0Lu7fVRdH3q8daAAAEYfjoY4/Vp2r9P/nTV0++pVXOjOK+cqxWRhtrOVkRWkRrkQyUOSATIiEWxcolsgoMOoajw43GNJDxztl9zVrpI7tn9sw2xiERKz6C/xXPcw8fOfK7v/OlhV3bSi6gTHQaoRyIaJV3lzFuCRkLnVGW6TTVudKpJGs5WSIypI1WZcFKiKjMrXOzBxdmD++b27t9LHofrgsBAOA4zrFjD33sgXumq76PmssEdcpVyuI2RC2b9JjKhEltnupMylzpXGqtjDVIBFlm+j2eprfVxSOHD946v+3grm3j81bBuC9B10DExszMLQduOnviFTQmSlNJyTAHZrTtWkPkCuFyUkZakOCVMvJ8zjhYyDMadIcyaQr5yUceuffArv1z0+E4HdNfHwIAwHW92+6486X/fIHxlST1VjpRlCdWG24tGSXJ+mgct6RMrsFYJ/Q12CRKhxGofFuIn3/8wc88cvf87FTgjVHvw3UkwHHcw/c9eOT4yZe+/5Tn8GiYdaJYWbREYHS+ejExtjQ7z5nKepETlHIwrlIlj9dC9uuP3fOFX3t4bnqq6EZ8ANeNAADww/CBh44tLy32r16+2u353AJJskCKEPSwfQXzhETJmMCfmhLVkmB4+87G5x67/8Ejt+1o1ooO/4Mp+ETslyUaRK+9+sq/Pfuvx996c6MXIXMN4EZ3IDUMDaSaGHcYL7lebeGmhUN7Zn7rs0/cd++drivG5wzyF7jOBABAvzdYPL/Y7/W73Y1mo1YulzvtjY04SYaqM4iXV9fPLZ4XiI8efeDjD3/0xpv2ifG+KX39CQAAIiIiawxjnHGmtTbGECARWWtba1c5Y9VqpVKrMj7uz9mjFHCt7DWmS0FRjGyA0Ps+TAAYdSY86fz3UcgSOfHwM0YuYNL5P89oBeBP9+CJh58wMgHvf/iZOAC4XsrRH2KKEEA/Hf2TSVCIAISf/OAGwMTBKAW8bxsgAoIt7qDwPWCrOyhIwAcUhLaog6JmAALiz3KCLbwnF74EXWMrdv01xkQAbNmHolEKeH/n4s9VJq79HtwWczAGMwDhfZvyFnIwHuel+AGftgiFC9hyPf4LjFLAL7XO0BZxU+AM+MAC9Zbo9P/OGGzCP2PL9T6MmYCtyERAwUwEFMxEQMFMBBTMREDBTAQUzERAwUwEFMxEQMFMBBTMREDBTAQUzERAwUwEFMxEQMFMBBTMREDB/BcDp6RLDcsVkAAAAABJRU5ErkJggg==\"/></div></div></div></td><td style=\"padding:1px;\"><div style=\"display:flex; align-items:left;\">\n",
       "      <div style=\"display:flex; flex-direction:column; align-items:center;\">\n",
       "      <div>Step 50</div><div><img width=\"128\" height=\"128\" style=\"image-rendering:pixelated; object-fit:cover;\" src=\"data:image/png;base64,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\"/></div></div></div></td><td style=\"padding:1px;\"><div style=\"display:flex; align-items:left;\">\n",
       "      <div style=\"display:flex; flex-direction:column; align-items:center;\">\n",
       "      <div>Step 60</div><div><img width=\"128\" height=\"128\" style=\"image-rendering:pixelated; object-fit:cover;\" src=\"data:image/png;base64,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\"/></div></div></div></td><td style=\"padding:1px;\"><div style=\"display:flex; align-items:left;\">\n",
       "      <div style=\"display:flex; flex-direction:column; align-items:center;\">\n",
       "      <div>Step 70</div><div><img width=\"128\" height=\"128\" style=\"image-rendering:pixelated; object-fit:cover;\" src=\"data:image/png;base64,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\"/></div></div></div></td><td style=\"padding:1px;\"><div style=\"display:flex; align-items:left;\">\n",
       "      <div style=\"display:flex; flex-direction:column; align-items:center;\">\n",
       "      <div>Step 80</div><div><img width=\"128\" height=\"128\" style=\"image-rendering:pixelated; object-fit:cover;\" src=\"data:image/png;base64,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\"/></div></div></div></td><td style=\"padding:1px;\"><div style=\"display:flex; align-items:left;\">\n",
       "      <div style=\"display:flex; flex-direction:column; align-items:center;\">\n",
       "      <div>Step 90</div><div><img width=\"128\" height=\"128\" style=\"image-rendering:pixelated; object-fit:cover;\" src=\"data:image/png;base64,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\"/></div></div></div></td><td style=\"padding:1px;\"><div style=\"display:flex; align-items:left;\">\n",
       "      <div style=\"display:flex; flex-direction:column; align-items:center;\">\n",
       "      <div>Step 100</div><div><img width=\"128\" height=\"128\" style=\"image-rendering:pixelated; object-fit:cover;\" src=\"data:image/png;base64,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\"/></div></div></div></td></tr></table>"
      ],
      "text/plain": [
       "<IPython.core.display.HTML object>"
      ]
     },
     "metadata": {},
     "output_type": "display_data"
    }
   ],
   "source": [
    "data = {}\n",
    "for i, f in enumerate(overlay_frames):\n",
    "    step = i*10\n",
    "    data[f\"Step {step}\"] = f\n",
    "media.show_images(data)"
   ]
  },
  {
   "cell_type": "code",
   "execution_count": null,
   "metadata": {},
   "outputs": [],
   "source": []
  }
 ],
 "metadata": {
  "kernelspec": {
   "display_name": "Python 3 (ipykernel)",
   "language": "python",
   "name": "python3"
  },
  "language_info": {
   "codemirror_mode": {
    "name": "ipython",
    "version": 3
   },
   "file_extension": ".py",
   "mimetype": "text/x-python",
   "name": "python",
   "nbconvert_exporter": "python",
   "pygments_lexer": "ipython3",
   "version": "3.9.16"
  }
 },
 "nbformat": 4,
 "nbformat_minor": 4
}
